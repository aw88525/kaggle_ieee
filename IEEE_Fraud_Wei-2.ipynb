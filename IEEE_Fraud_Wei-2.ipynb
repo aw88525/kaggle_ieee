{
 "cells": [
  {
   "cell_type": "markdown",
   "metadata": {},
   "source": [
    "# IEEE CIS Fraud Detection \n",
    "This is a side project I did recently on Kaggle datasets called IEEE CIS Fraud Detection. \n",
    "* The task is to detect fraud transactions from the provided datasets.\n",
    "* Original datasets have a training set, a testing set. However, for this task, I will split the original training set to 2 parts--a training set with cross-validation and a testing set.\n",
    "\n",
    "\n",
    "The outline of the work includes the following:\n",
    "* Import the datasets\n",
    "* Knowing and cleaning the data\n",
    "* Exploratory data analysis and feature selection\n",
    "* Train a ridge model\n",
    "* Train a random forest model and feature selection\n",
    "* Train a XGBoost model\n",
    "* Summary\n",
    "\n",
    "\n",
    "\n",
    "Let us start real quick!"
   ]
  },
  {
   "cell_type": "code",
   "execution_count": 2,
   "metadata": {},
   "outputs": [],
   "source": [
    "import numpy as np # linear algebra\n",
    "import pandas as pd # data processing, CSV file I/O (e.g. pd.read_csv)\n",
    "#from sklearn import preprocessing\n",
    "from sklearn.impute import SimpleImputer\n",
    "from sklearn.model_selection import train_test_split\n",
    "from sklearn.metrics import confusion_matrix\n",
    "from sklearn import metrics\n",
    "from sklearn.ensemble import RandomForestClassifier\n",
    "from sklearn.preprocessing import StandardScaler\n",
    "#from sklearn.preprocessing import PolynomialFeatures\n",
    "from sklearn.linear_model import RidgeClassifierCV, RidgeClassifier\n",
    "from sklearn.model_selection import StratifiedKFold, RandomizedSearchCV, GridSearchCV\n",
    "#import xgboost as xgb\n",
    "from xgboost import XGBClassifier\n",
    "import matplotlib.pyplot as plt\n",
    "import seaborn as sns; sns.set()\n",
    "%matplotlib inline"
   ]
  },
  {
   "cell_type": "markdown",
   "metadata": {},
   "source": [
    "# Import the datasets"
   ]
  },
  {
   "cell_type": "code",
   "execution_count": 3,
   "metadata": {},
   "outputs": [],
   "source": [
    "train_transaction = pd.read_csv(r'/Users/alex_chloe/Desktop/kaggle/train_transaction.csv')\n",
    "train_identity = pd.read_csv(r'/Users/alex_chloe/Desktop/kaggle/train_identity.csv')\n",
    "train_transaction_full = train_transaction.merge(train_identity, how = 'left', \n",
    "                                                 left_on = 'TransactionID', right_on = 'TransactionID')\n"
   ]
  },
  {
   "cell_type": "markdown",
   "metadata": {},
   "source": [
    "# Knowing and cleaning the data\n",
    "First of all, we want to know some detail about the dataset, so let's do it!"
   ]
  },
  {
   "cell_type": "code",
   "execution_count": 4,
   "metadata": {},
   "outputs": [
    {
     "name": "stdout",
     "output_type": "stream",
     "text": [
      "(590540, 434)\n"
     ]
    }
   ],
   "source": [
    "#shape\n",
    "print(train_transaction_full.shape)"
   ]
  },
  {
   "cell_type": "code",
   "execution_count": 5,
   "metadata": {},
   "outputs": [
    {
     "data": {
      "text/html": [
       "<div>\n",
       "<style scoped>\n",
       "    .dataframe tbody tr th:only-of-type {\n",
       "        vertical-align: middle;\n",
       "    }\n",
       "\n",
       "    .dataframe tbody tr th {\n",
       "        vertical-align: top;\n",
       "    }\n",
       "\n",
       "    .dataframe thead th {\n",
       "        text-align: right;\n",
       "    }\n",
       "</style>\n",
       "<table border=\"1\" class=\"dataframe\">\n",
       "  <thead>\n",
       "    <tr style=\"text-align: right;\">\n",
       "      <th></th>\n",
       "      <th>TransactionID</th>\n",
       "      <th>isFraud</th>\n",
       "      <th>TransactionDT</th>\n",
       "      <th>TransactionAmt</th>\n",
       "      <th>ProductCD</th>\n",
       "      <th>card1</th>\n",
       "      <th>card2</th>\n",
       "      <th>card3</th>\n",
       "      <th>card4</th>\n",
       "      <th>card5</th>\n",
       "      <th>...</th>\n",
       "      <th>id_31</th>\n",
       "      <th>id_32</th>\n",
       "      <th>id_33</th>\n",
       "      <th>id_34</th>\n",
       "      <th>id_35</th>\n",
       "      <th>id_36</th>\n",
       "      <th>id_37</th>\n",
       "      <th>id_38</th>\n",
       "      <th>DeviceType</th>\n",
       "      <th>DeviceInfo</th>\n",
       "    </tr>\n",
       "  </thead>\n",
       "  <tbody>\n",
       "    <tr>\n",
       "      <th>0</th>\n",
       "      <td>2987000</td>\n",
       "      <td>0</td>\n",
       "      <td>86400</td>\n",
       "      <td>68.5</td>\n",
       "      <td>W</td>\n",
       "      <td>13926</td>\n",
       "      <td>NaN</td>\n",
       "      <td>150.0</td>\n",
       "      <td>discover</td>\n",
       "      <td>142.0</td>\n",
       "      <td>...</td>\n",
       "      <td>NaN</td>\n",
       "      <td>NaN</td>\n",
       "      <td>NaN</td>\n",
       "      <td>NaN</td>\n",
       "      <td>NaN</td>\n",
       "      <td>NaN</td>\n",
       "      <td>NaN</td>\n",
       "      <td>NaN</td>\n",
       "      <td>NaN</td>\n",
       "      <td>NaN</td>\n",
       "    </tr>\n",
       "    <tr>\n",
       "      <th>1</th>\n",
       "      <td>2987001</td>\n",
       "      <td>0</td>\n",
       "      <td>86401</td>\n",
       "      <td>29.0</td>\n",
       "      <td>W</td>\n",
       "      <td>2755</td>\n",
       "      <td>404.0</td>\n",
       "      <td>150.0</td>\n",
       "      <td>mastercard</td>\n",
       "      <td>102.0</td>\n",
       "      <td>...</td>\n",
       "      <td>NaN</td>\n",
       "      <td>NaN</td>\n",
       "      <td>NaN</td>\n",
       "      <td>NaN</td>\n",
       "      <td>NaN</td>\n",
       "      <td>NaN</td>\n",
       "      <td>NaN</td>\n",
       "      <td>NaN</td>\n",
       "      <td>NaN</td>\n",
       "      <td>NaN</td>\n",
       "    </tr>\n",
       "    <tr>\n",
       "      <th>2</th>\n",
       "      <td>2987002</td>\n",
       "      <td>0</td>\n",
       "      <td>86469</td>\n",
       "      <td>59.0</td>\n",
       "      <td>W</td>\n",
       "      <td>4663</td>\n",
       "      <td>490.0</td>\n",
       "      <td>150.0</td>\n",
       "      <td>visa</td>\n",
       "      <td>166.0</td>\n",
       "      <td>...</td>\n",
       "      <td>NaN</td>\n",
       "      <td>NaN</td>\n",
       "      <td>NaN</td>\n",
       "      <td>NaN</td>\n",
       "      <td>NaN</td>\n",
       "      <td>NaN</td>\n",
       "      <td>NaN</td>\n",
       "      <td>NaN</td>\n",
       "      <td>NaN</td>\n",
       "      <td>NaN</td>\n",
       "    </tr>\n",
       "    <tr>\n",
       "      <th>3</th>\n",
       "      <td>2987003</td>\n",
       "      <td>0</td>\n",
       "      <td>86499</td>\n",
       "      <td>50.0</td>\n",
       "      <td>W</td>\n",
       "      <td>18132</td>\n",
       "      <td>567.0</td>\n",
       "      <td>150.0</td>\n",
       "      <td>mastercard</td>\n",
       "      <td>117.0</td>\n",
       "      <td>...</td>\n",
       "      <td>NaN</td>\n",
       "      <td>NaN</td>\n",
       "      <td>NaN</td>\n",
       "      <td>NaN</td>\n",
       "      <td>NaN</td>\n",
       "      <td>NaN</td>\n",
       "      <td>NaN</td>\n",
       "      <td>NaN</td>\n",
       "      <td>NaN</td>\n",
       "      <td>NaN</td>\n",
       "    </tr>\n",
       "    <tr>\n",
       "      <th>4</th>\n",
       "      <td>2987004</td>\n",
       "      <td>0</td>\n",
       "      <td>86506</td>\n",
       "      <td>50.0</td>\n",
       "      <td>H</td>\n",
       "      <td>4497</td>\n",
       "      <td>514.0</td>\n",
       "      <td>150.0</td>\n",
       "      <td>mastercard</td>\n",
       "      <td>102.0</td>\n",
       "      <td>...</td>\n",
       "      <td>samsung browser 6.2</td>\n",
       "      <td>32.0</td>\n",
       "      <td>2220x1080</td>\n",
       "      <td>match_status:2</td>\n",
       "      <td>T</td>\n",
       "      <td>F</td>\n",
       "      <td>T</td>\n",
       "      <td>T</td>\n",
       "      <td>mobile</td>\n",
       "      <td>SAMSUNG SM-G892A Build/NRD90M</td>\n",
       "    </tr>\n",
       "  </tbody>\n",
       "</table>\n",
       "<p>5 rows × 434 columns</p>\n",
       "</div>"
      ],
      "text/plain": [
       "   TransactionID  isFraud  TransactionDT  TransactionAmt ProductCD  card1  \\\n",
       "0        2987000        0          86400            68.5         W  13926   \n",
       "1        2987001        0          86401            29.0         W   2755   \n",
       "2        2987002        0          86469            59.0         W   4663   \n",
       "3        2987003        0          86499            50.0         W  18132   \n",
       "4        2987004        0          86506            50.0         H   4497   \n",
       "\n",
       "   card2  card3       card4  card5  ...                id_31  id_32  \\\n",
       "0    NaN  150.0    discover  142.0  ...                  NaN    NaN   \n",
       "1  404.0  150.0  mastercard  102.0  ...                  NaN    NaN   \n",
       "2  490.0  150.0        visa  166.0  ...                  NaN    NaN   \n",
       "3  567.0  150.0  mastercard  117.0  ...                  NaN    NaN   \n",
       "4  514.0  150.0  mastercard  102.0  ...  samsung browser 6.2   32.0   \n",
       "\n",
       "       id_33           id_34  id_35 id_36 id_37  id_38  DeviceType  \\\n",
       "0        NaN             NaN    NaN   NaN   NaN    NaN         NaN   \n",
       "1        NaN             NaN    NaN   NaN   NaN    NaN         NaN   \n",
       "2        NaN             NaN    NaN   NaN   NaN    NaN         NaN   \n",
       "3        NaN             NaN    NaN   NaN   NaN    NaN         NaN   \n",
       "4  2220x1080  match_status:2      T     F     T      T      mobile   \n",
       "\n",
       "                      DeviceInfo  \n",
       "0                            NaN  \n",
       "1                            NaN  \n",
       "2                            NaN  \n",
       "3                            NaN  \n",
       "4  SAMSUNG SM-G892A Build/NRD90M  \n",
       "\n",
       "[5 rows x 434 columns]"
      ]
     },
     "execution_count": 5,
     "metadata": {},
     "output_type": "execute_result"
    }
   ],
   "source": [
    "train_transaction_full.head()"
   ]
  },
  {
   "cell_type": "code",
   "execution_count": 6,
   "metadata": {},
   "outputs": [
    {
     "data": {
      "text/html": [
       "<div>\n",
       "<style scoped>\n",
       "    .dataframe tbody tr th:only-of-type {\n",
       "        vertical-align: middle;\n",
       "    }\n",
       "\n",
       "    .dataframe tbody tr th {\n",
       "        vertical-align: top;\n",
       "    }\n",
       "\n",
       "    .dataframe thead th {\n",
       "        text-align: right;\n",
       "    }\n",
       "</style>\n",
       "<table border=\"1\" class=\"dataframe\">\n",
       "  <thead>\n",
       "    <tr style=\"text-align: right;\">\n",
       "      <th></th>\n",
       "      <th>TransactionID</th>\n",
       "      <th>isFraud</th>\n",
       "      <th>TransactionDT</th>\n",
       "      <th>TransactionAmt</th>\n",
       "      <th>ProductCD</th>\n",
       "      <th>card1</th>\n",
       "      <th>card2</th>\n",
       "      <th>card3</th>\n",
       "      <th>card4</th>\n",
       "      <th>card5</th>\n",
       "      <th>...</th>\n",
       "      <th>id_31</th>\n",
       "      <th>id_32</th>\n",
       "      <th>id_33</th>\n",
       "      <th>id_34</th>\n",
       "      <th>id_35</th>\n",
       "      <th>id_36</th>\n",
       "      <th>id_37</th>\n",
       "      <th>id_38</th>\n",
       "      <th>DeviceType</th>\n",
       "      <th>DeviceInfo</th>\n",
       "    </tr>\n",
       "  </thead>\n",
       "  <tbody>\n",
       "    <tr>\n",
       "      <th>count</th>\n",
       "      <td>5.905400e+05</td>\n",
       "      <td>590540.000000</td>\n",
       "      <td>5.905400e+05</td>\n",
       "      <td>590540.000000</td>\n",
       "      <td>590540</td>\n",
       "      <td>590540.000000</td>\n",
       "      <td>581607.000000</td>\n",
       "      <td>588975.000000</td>\n",
       "      <td>588963</td>\n",
       "      <td>586281.000000</td>\n",
       "      <td>...</td>\n",
       "      <td>140282</td>\n",
       "      <td>77586.000000</td>\n",
       "      <td>73289</td>\n",
       "      <td>77805</td>\n",
       "      <td>140985</td>\n",
       "      <td>140985</td>\n",
       "      <td>140985</td>\n",
       "      <td>140985</td>\n",
       "      <td>140810</td>\n",
       "      <td>118666</td>\n",
       "    </tr>\n",
       "    <tr>\n",
       "      <th>unique</th>\n",
       "      <td>NaN</td>\n",
       "      <td>NaN</td>\n",
       "      <td>NaN</td>\n",
       "      <td>NaN</td>\n",
       "      <td>5</td>\n",
       "      <td>NaN</td>\n",
       "      <td>NaN</td>\n",
       "      <td>NaN</td>\n",
       "      <td>4</td>\n",
       "      <td>NaN</td>\n",
       "      <td>...</td>\n",
       "      <td>130</td>\n",
       "      <td>NaN</td>\n",
       "      <td>260</td>\n",
       "      <td>4</td>\n",
       "      <td>2</td>\n",
       "      <td>2</td>\n",
       "      <td>2</td>\n",
       "      <td>2</td>\n",
       "      <td>2</td>\n",
       "      <td>1786</td>\n",
       "    </tr>\n",
       "    <tr>\n",
       "      <th>top</th>\n",
       "      <td>NaN</td>\n",
       "      <td>NaN</td>\n",
       "      <td>NaN</td>\n",
       "      <td>NaN</td>\n",
       "      <td>W</td>\n",
       "      <td>NaN</td>\n",
       "      <td>NaN</td>\n",
       "      <td>NaN</td>\n",
       "      <td>visa</td>\n",
       "      <td>NaN</td>\n",
       "      <td>...</td>\n",
       "      <td>chrome 63.0</td>\n",
       "      <td>NaN</td>\n",
       "      <td>1920x1080</td>\n",
       "      <td>match_status:2</td>\n",
       "      <td>T</td>\n",
       "      <td>F</td>\n",
       "      <td>T</td>\n",
       "      <td>F</td>\n",
       "      <td>desktop</td>\n",
       "      <td>Windows</td>\n",
       "    </tr>\n",
       "    <tr>\n",
       "      <th>freq</th>\n",
       "      <td>NaN</td>\n",
       "      <td>NaN</td>\n",
       "      <td>NaN</td>\n",
       "      <td>NaN</td>\n",
       "      <td>439670</td>\n",
       "      <td>NaN</td>\n",
       "      <td>NaN</td>\n",
       "      <td>NaN</td>\n",
       "      <td>384767</td>\n",
       "      <td>NaN</td>\n",
       "      <td>...</td>\n",
       "      <td>22000</td>\n",
       "      <td>NaN</td>\n",
       "      <td>16874</td>\n",
       "      <td>60011</td>\n",
       "      <td>77814</td>\n",
       "      <td>134066</td>\n",
       "      <td>110452</td>\n",
       "      <td>73922</td>\n",
       "      <td>85165</td>\n",
       "      <td>47722</td>\n",
       "    </tr>\n",
       "    <tr>\n",
       "      <th>mean</th>\n",
       "      <td>3.282270e+06</td>\n",
       "      <td>0.034990</td>\n",
       "      <td>7.372311e+06</td>\n",
       "      <td>135.027176</td>\n",
       "      <td>NaN</td>\n",
       "      <td>9898.734658</td>\n",
       "      <td>362.555488</td>\n",
       "      <td>153.194925</td>\n",
       "      <td>NaN</td>\n",
       "      <td>199.278897</td>\n",
       "      <td>...</td>\n",
       "      <td>NaN</td>\n",
       "      <td>26.508597</td>\n",
       "      <td>NaN</td>\n",
       "      <td>NaN</td>\n",
       "      <td>NaN</td>\n",
       "      <td>NaN</td>\n",
       "      <td>NaN</td>\n",
       "      <td>NaN</td>\n",
       "      <td>NaN</td>\n",
       "      <td>NaN</td>\n",
       "    </tr>\n",
       "    <tr>\n",
       "      <th>std</th>\n",
       "      <td>1.704744e+05</td>\n",
       "      <td>0.183755</td>\n",
       "      <td>4.617224e+06</td>\n",
       "      <td>239.162522</td>\n",
       "      <td>NaN</td>\n",
       "      <td>4901.170153</td>\n",
       "      <td>157.793246</td>\n",
       "      <td>11.336444</td>\n",
       "      <td>NaN</td>\n",
       "      <td>41.244453</td>\n",
       "      <td>...</td>\n",
       "      <td>NaN</td>\n",
       "      <td>3.737502</td>\n",
       "      <td>NaN</td>\n",
       "      <td>NaN</td>\n",
       "      <td>NaN</td>\n",
       "      <td>NaN</td>\n",
       "      <td>NaN</td>\n",
       "      <td>NaN</td>\n",
       "      <td>NaN</td>\n",
       "      <td>NaN</td>\n",
       "    </tr>\n",
       "    <tr>\n",
       "      <th>min</th>\n",
       "      <td>2.987000e+06</td>\n",
       "      <td>0.000000</td>\n",
       "      <td>8.640000e+04</td>\n",
       "      <td>0.251000</td>\n",
       "      <td>NaN</td>\n",
       "      <td>1000.000000</td>\n",
       "      <td>100.000000</td>\n",
       "      <td>100.000000</td>\n",
       "      <td>NaN</td>\n",
       "      <td>100.000000</td>\n",
       "      <td>...</td>\n",
       "      <td>NaN</td>\n",
       "      <td>0.000000</td>\n",
       "      <td>NaN</td>\n",
       "      <td>NaN</td>\n",
       "      <td>NaN</td>\n",
       "      <td>NaN</td>\n",
       "      <td>NaN</td>\n",
       "      <td>NaN</td>\n",
       "      <td>NaN</td>\n",
       "      <td>NaN</td>\n",
       "    </tr>\n",
       "    <tr>\n",
       "      <th>25%</th>\n",
       "      <td>3.134635e+06</td>\n",
       "      <td>0.000000</td>\n",
       "      <td>3.027058e+06</td>\n",
       "      <td>43.321000</td>\n",
       "      <td>NaN</td>\n",
       "      <td>6019.000000</td>\n",
       "      <td>214.000000</td>\n",
       "      <td>150.000000</td>\n",
       "      <td>NaN</td>\n",
       "      <td>166.000000</td>\n",
       "      <td>...</td>\n",
       "      <td>NaN</td>\n",
       "      <td>24.000000</td>\n",
       "      <td>NaN</td>\n",
       "      <td>NaN</td>\n",
       "      <td>NaN</td>\n",
       "      <td>NaN</td>\n",
       "      <td>NaN</td>\n",
       "      <td>NaN</td>\n",
       "      <td>NaN</td>\n",
       "      <td>NaN</td>\n",
       "    </tr>\n",
       "    <tr>\n",
       "      <th>50%</th>\n",
       "      <td>3.282270e+06</td>\n",
       "      <td>0.000000</td>\n",
       "      <td>7.306528e+06</td>\n",
       "      <td>68.769000</td>\n",
       "      <td>NaN</td>\n",
       "      <td>9678.000000</td>\n",
       "      <td>361.000000</td>\n",
       "      <td>150.000000</td>\n",
       "      <td>NaN</td>\n",
       "      <td>226.000000</td>\n",
       "      <td>...</td>\n",
       "      <td>NaN</td>\n",
       "      <td>24.000000</td>\n",
       "      <td>NaN</td>\n",
       "      <td>NaN</td>\n",
       "      <td>NaN</td>\n",
       "      <td>NaN</td>\n",
       "      <td>NaN</td>\n",
       "      <td>NaN</td>\n",
       "      <td>NaN</td>\n",
       "      <td>NaN</td>\n",
       "    </tr>\n",
       "    <tr>\n",
       "      <th>75%</th>\n",
       "      <td>3.429904e+06</td>\n",
       "      <td>0.000000</td>\n",
       "      <td>1.124662e+07</td>\n",
       "      <td>125.000000</td>\n",
       "      <td>NaN</td>\n",
       "      <td>14184.000000</td>\n",
       "      <td>512.000000</td>\n",
       "      <td>150.000000</td>\n",
       "      <td>NaN</td>\n",
       "      <td>226.000000</td>\n",
       "      <td>...</td>\n",
       "      <td>NaN</td>\n",
       "      <td>32.000000</td>\n",
       "      <td>NaN</td>\n",
       "      <td>NaN</td>\n",
       "      <td>NaN</td>\n",
       "      <td>NaN</td>\n",
       "      <td>NaN</td>\n",
       "      <td>NaN</td>\n",
       "      <td>NaN</td>\n",
       "      <td>NaN</td>\n",
       "    </tr>\n",
       "    <tr>\n",
       "      <th>max</th>\n",
       "      <td>3.577539e+06</td>\n",
       "      <td>1.000000</td>\n",
       "      <td>1.581113e+07</td>\n",
       "      <td>31937.391000</td>\n",
       "      <td>NaN</td>\n",
       "      <td>18396.000000</td>\n",
       "      <td>600.000000</td>\n",
       "      <td>231.000000</td>\n",
       "      <td>NaN</td>\n",
       "      <td>237.000000</td>\n",
       "      <td>...</td>\n",
       "      <td>NaN</td>\n",
       "      <td>32.000000</td>\n",
       "      <td>NaN</td>\n",
       "      <td>NaN</td>\n",
       "      <td>NaN</td>\n",
       "      <td>NaN</td>\n",
       "      <td>NaN</td>\n",
       "      <td>NaN</td>\n",
       "      <td>NaN</td>\n",
       "      <td>NaN</td>\n",
       "    </tr>\n",
       "  </tbody>\n",
       "</table>\n",
       "<p>11 rows × 434 columns</p>\n",
       "</div>"
      ],
      "text/plain": [
       "        TransactionID        isFraud  TransactionDT  TransactionAmt ProductCD  \\\n",
       "count    5.905400e+05  590540.000000   5.905400e+05   590540.000000    590540   \n",
       "unique            NaN            NaN            NaN             NaN         5   \n",
       "top               NaN            NaN            NaN             NaN         W   \n",
       "freq              NaN            NaN            NaN             NaN    439670   \n",
       "mean     3.282270e+06       0.034990   7.372311e+06      135.027176       NaN   \n",
       "std      1.704744e+05       0.183755   4.617224e+06      239.162522       NaN   \n",
       "min      2.987000e+06       0.000000   8.640000e+04        0.251000       NaN   \n",
       "25%      3.134635e+06       0.000000   3.027058e+06       43.321000       NaN   \n",
       "50%      3.282270e+06       0.000000   7.306528e+06       68.769000       NaN   \n",
       "75%      3.429904e+06       0.000000   1.124662e+07      125.000000       NaN   \n",
       "max      3.577539e+06       1.000000   1.581113e+07    31937.391000       NaN   \n",
       "\n",
       "                card1          card2          card3   card4          card5  \\\n",
       "count   590540.000000  581607.000000  588975.000000  588963  586281.000000   \n",
       "unique            NaN            NaN            NaN       4            NaN   \n",
       "top               NaN            NaN            NaN    visa            NaN   \n",
       "freq              NaN            NaN            NaN  384767            NaN   \n",
       "mean      9898.734658     362.555488     153.194925     NaN     199.278897   \n",
       "std       4901.170153     157.793246      11.336444     NaN      41.244453   \n",
       "min       1000.000000     100.000000     100.000000     NaN     100.000000   \n",
       "25%       6019.000000     214.000000     150.000000     NaN     166.000000   \n",
       "50%       9678.000000     361.000000     150.000000     NaN     226.000000   \n",
       "75%      14184.000000     512.000000     150.000000     NaN     226.000000   \n",
       "max      18396.000000     600.000000     231.000000     NaN     237.000000   \n",
       "\n",
       "        ...        id_31         id_32      id_33           id_34   id_35  \\\n",
       "count   ...       140282  77586.000000      73289           77805  140985   \n",
       "unique  ...          130           NaN        260               4       2   \n",
       "top     ...  chrome 63.0           NaN  1920x1080  match_status:2       T   \n",
       "freq    ...        22000           NaN      16874           60011   77814   \n",
       "mean    ...          NaN     26.508597        NaN             NaN     NaN   \n",
       "std     ...          NaN      3.737502        NaN             NaN     NaN   \n",
       "min     ...          NaN      0.000000        NaN             NaN     NaN   \n",
       "25%     ...          NaN     24.000000        NaN             NaN     NaN   \n",
       "50%     ...          NaN     24.000000        NaN             NaN     NaN   \n",
       "75%     ...          NaN     32.000000        NaN             NaN     NaN   \n",
       "max     ...          NaN     32.000000        NaN             NaN     NaN   \n",
       "\n",
       "         id_36   id_37   id_38  DeviceType  DeviceInfo  \n",
       "count   140985  140985  140985      140810      118666  \n",
       "unique       2       2       2           2        1786  \n",
       "top          F       T       F     desktop     Windows  \n",
       "freq    134066  110452   73922       85165       47722  \n",
       "mean       NaN     NaN     NaN         NaN         NaN  \n",
       "std        NaN     NaN     NaN         NaN         NaN  \n",
       "min        NaN     NaN     NaN         NaN         NaN  \n",
       "25%        NaN     NaN     NaN         NaN         NaN  \n",
       "50%        NaN     NaN     NaN         NaN         NaN  \n",
       "75%        NaN     NaN     NaN         NaN         NaN  \n",
       "max        NaN     NaN     NaN         NaN         NaN  \n",
       "\n",
       "[11 rows x 434 columns]"
      ]
     },
     "execution_count": 6,
     "metadata": {},
     "output_type": "execute_result"
    }
   ],
   "source": [
    "train_transaction_full.describe(include = 'all')"
   ]
  },
  {
   "cell_type": "markdown",
   "metadata": {},
   "source": [
    "So this dataset has 590540 rows and 434 columns! Based on the info provided by the IEEE, we know that \n",
    "\n",
    "1) Transaction tables\n",
    "* TransactionDT: timedelta from a given reference datetime (not an actual timestamp)\n",
    "* TransactionAMT: transaction payment amount in USD\n",
    "* ProductCD: product code, the product for each transaction\n",
    "* card1 - card6: payment card information, such as card type, card category, issue bank, country, etc.\n",
    "* addr: address\n",
    "* dist: distance\n",
    "* P_ and (R__) emaildomain: purchaser and recipient email domain\n",
    "* C1-C14: counting, such as how many addresses are found to be associated with the payment card, etc. The actual   meaning is masked.\n",
    "* D1-D15: timedelta, such as days between previous transaction, etc.\n",
    "* M1-M9: match, such as names on card and address, etc.\n",
    "* Vxxx: Vesta engineered rich features, including ranking, counting, and other entity relations.\n",
    "\n",
    "Categorical Features:\n",
    "ProductCD\n",
    "card1 - card6\n",
    "addr1, addr2\n",
    "Pemaildomain Remaildomain\n",
    "M1 - M9\n",
    "\n",
    "2) Identity tables\n",
    "\n",
    "Variables in this table are identity information – network connection information (IP, ISP, Proxy, etc) and digital signature (UA/browser/os/version, etc) associated with transactions. \n",
    "They're collected by Vesta’s fraud protection system and digital security partners.\n",
    "(The field names are masked and pairwise dictionary will not be provided for privacy protection and contract agreement)\n",
    "\n",
    "Categorical Features:\n",
    "DeviceType\n",
    "DeviceInfo\n",
    "id12 - id38\n",
    "\n",
    "As we can see a lot of missing values in the table and the categorical features are not handled, we need to do some cleaning first.\n"
   ]
  },
  {
   "cell_type": "markdown",
   "metadata": {},
   "source": [
    "How many of the observations are fraud? I suppose this dataset may be highly skewed."
   ]
  },
  {
   "cell_type": "code",
   "execution_count": 7,
   "metadata": {},
   "outputs": [
    {
     "name": "stdout",
     "output_type": "stream",
     "text": [
      "the fraud cases are 20663, and the non-fraud cases are 569877\n"
     ]
    }
   ],
   "source": [
    "fraudcases, _ = train_transaction_full[train_transaction_full['isFraud'] == True].shape\n",
    "nonfraudcases, _ = train_transaction_full[train_transaction_full['isFraud'] == False].shape\n",
    "print(\"the fraud cases are {}, and the non-fraud cases are {}\".format(fraudcases, nonfraudcases))"
   ]
  },
  {
   "cell_type": "markdown",
   "metadata": {},
   "source": [
    "So we need to be aware of the fact that this dataset is very skewed which could indicate accuracy is not a good criterion in our final prediction task. "
   ]
  },
  {
   "cell_type": "code",
   "execution_count": 8,
   "metadata": {},
   "outputs": [],
   "source": [
    "# drop columns that are more than 90% with NAs\n",
    "#usecolumns = []\n",
    "#len_rows,len_columns = train_transaction_full.shape\n",
    "#for i in range(len_columns):\n",
    "#    naportion = train_transaction_full.iloc[:, i].isna().sum() / len_rows\n",
    "#    if(naportion <= 0.90):\n",
    "#        usecolumns.append(train_transaction_full.columns[i])\n",
    "train_transaction_full = train_transaction_full.loc[:, train_transaction_full.isnull().mean()<0.8]"
   ]
  },
  {
   "cell_type": "code",
   "execution_count": 9,
   "metadata": {},
   "outputs": [
    {
     "data": {
      "text/plain": [
       "array(['TransactionID', 'isFraud', 'TransactionDT', 'TransactionAmt',\n",
       "       'ProductCD', 'card1', 'card2', 'card3', 'card4', 'card5', 'card6',\n",
       "       'addr1', 'addr2', 'dist1', 'P_emaildomain', 'R_emaildomain', 'C1',\n",
       "       'C2', 'C3', 'C4', 'C5', 'C6', 'C7', 'C8', 'C9', 'C10', 'C11',\n",
       "       'C12', 'C13', 'C14', 'D1', 'D2', 'D3', 'D4', 'D5', 'D10', 'D11',\n",
       "       'D15', 'M1', 'M2', 'M3', 'M4', 'M5', 'M6', 'M7', 'M8', 'M9', 'V1',\n",
       "       'V2', 'V3', 'V4', 'V5', 'V6', 'V7', 'V8', 'V9', 'V10', 'V11',\n",
       "       'V12', 'V13', 'V14', 'V15', 'V16', 'V17', 'V18', 'V19', 'V20',\n",
       "       'V21', 'V22', 'V23', 'V24', 'V25', 'V26', 'V27', 'V28', 'V29',\n",
       "       'V30', 'V31', 'V32', 'V33', 'V34', 'V35', 'V36', 'V37', 'V38',\n",
       "       'V39', 'V40', 'V41', 'V42', 'V43', 'V44', 'V45', 'V46', 'V47',\n",
       "       'V48', 'V49', 'V50', 'V51', 'V52', 'V53', 'V54', 'V55', 'V56',\n",
       "       'V57', 'V58', 'V59', 'V60', 'V61', 'V62', 'V63', 'V64', 'V65',\n",
       "       'V66', 'V67', 'V68', 'V69', 'V70', 'V71', 'V72', 'V73', 'V74',\n",
       "       'V75', 'V76', 'V77', 'V78', 'V79', 'V80', 'V81', 'V82', 'V83',\n",
       "       'V84', 'V85', 'V86', 'V87', 'V88', 'V89', 'V90', 'V91', 'V92',\n",
       "       'V93', 'V94', 'V95', 'V96', 'V97', 'V98', 'V99', 'V100', 'V101',\n",
       "       'V102', 'V103', 'V104', 'V105', 'V106', 'V107', 'V108', 'V109',\n",
       "       'V110', 'V111', 'V112', 'V113', 'V114', 'V115', 'V116', 'V117',\n",
       "       'V118', 'V119', 'V120', 'V121', 'V122', 'V123', 'V124', 'V125',\n",
       "       'V126', 'V127', 'V128', 'V129', 'V130', 'V131', 'V132', 'V133',\n",
       "       'V134', 'V135', 'V136', 'V137', 'V167', 'V168', 'V169', 'V170',\n",
       "       'V171', 'V172', 'V173', 'V174', 'V175', 'V176', 'V177', 'V178',\n",
       "       'V179', 'V180', 'V181', 'V182', 'V183', 'V184', 'V185', 'V186',\n",
       "       'V187', 'V188', 'V189', 'V190', 'V191', 'V192', 'V193', 'V194',\n",
       "       'V195', 'V196', 'V197', 'V198', 'V199', 'V200', 'V201', 'V202',\n",
       "       'V203', 'V204', 'V205', 'V206', 'V207', 'V208', 'V209', 'V210',\n",
       "       'V211', 'V212', 'V213', 'V214', 'V215', 'V216', 'V217', 'V218',\n",
       "       'V219', 'V220', 'V221', 'V222', 'V223', 'V224', 'V225', 'V226',\n",
       "       'V227', 'V228', 'V229', 'V230', 'V231', 'V232', 'V233', 'V234',\n",
       "       'V235', 'V236', 'V237', 'V238', 'V239', 'V240', 'V241', 'V242',\n",
       "       'V243', 'V244', 'V245', 'V246', 'V247', 'V248', 'V249', 'V250',\n",
       "       'V251', 'V252', 'V253', 'V254', 'V255', 'V256', 'V257', 'V258',\n",
       "       'V259', 'V260', 'V261', 'V262', 'V263', 'V264', 'V265', 'V266',\n",
       "       'V267', 'V268', 'V269', 'V270', 'V271', 'V272', 'V273', 'V274',\n",
       "       'V275', 'V276', 'V277', 'V278', 'V279', 'V280', 'V281', 'V282',\n",
       "       'V283', 'V284', 'V285', 'V286', 'V287', 'V288', 'V289', 'V290',\n",
       "       'V291', 'V292', 'V293', 'V294', 'V295', 'V296', 'V297', 'V298',\n",
       "       'V299', 'V300', 'V301', 'V302', 'V303', 'V304', 'V305', 'V306',\n",
       "       'V307', 'V308', 'V309', 'V310', 'V311', 'V312', 'V313', 'V314',\n",
       "       'V315', 'V316', 'V317', 'V318', 'V319', 'V320', 'V321', 'id_01',\n",
       "       'id_02', 'id_05', 'id_06', 'id_11', 'id_12', 'id_13', 'id_15',\n",
       "       'id_16', 'id_17', 'id_19', 'id_20', 'id_28', 'id_29', 'id_31',\n",
       "       'id_35', 'id_36', 'id_37', 'id_38', 'DeviceType', 'DeviceInfo'],\n",
       "      dtype=object)"
      ]
     },
     "execution_count": 9,
     "metadata": {},
     "output_type": "execute_result"
    }
   ],
   "source": [
    "train_transaction_full.columns.values"
   ]
  },
  {
   "cell_type": "markdown",
   "metadata": {},
   "source": [
    "Categorical variables need to be one-hot encoded"
   ]
  },
  {
   "cell_type": "code",
   "execution_count": 10,
   "metadata": {},
   "outputs": [],
   "source": [
    "column_names_cat = ['ProductCD', 'card1', 'card2', 'card3', 'card4', 'card5', 'card6',\n",
    "       'addr1', 'addr2', 'P_emaildomain','R_emaildomain', 'M1', 'M2', 'M3', 'M4', 'M5', 'M6', 'M7', 'M8', 'M9', 'id_12', 'id_13', 'id_15', 'id_16', 'id_17',\n",
    "       'id_19', 'id_20', 'id_28', 'id_29', 'id_31', 'id_35', 'id_36', 'id_37', 'id_38', 'DeviceType',\n",
    "       'DeviceInfo']"
   ]
  },
  {
   "cell_type": "markdown",
   "metadata": {},
   "source": [
    "However, here comes a problem. Some variables contain ridiculously large number of different levels which \n",
    "we should do one-hot encoding on. For instance, 'addr1', let's show how many different variables addr1 have"
   ]
  },
  {
   "cell_type": "code",
   "execution_count": 11,
   "metadata": {},
   "outputs": [
    {
     "data": {
      "text/plain": [
       "333"
      ]
     },
     "execution_count": 11,
     "metadata": {},
     "output_type": "execute_result"
    }
   ],
   "source": [
    "len(train_transaction_full['addr1'].unique())"
   ]
  },
  {
   "cell_type": "markdown",
   "metadata": {},
   "source": [
    "As you see, this will be an issue for machine learning algorithm because if we one-hot encodes every variable like this than we wind up having a huge training set. One strategy is to drop such columns once and for all, but this may otherwise results in loss of useful info. The other solution is to just encode the first several categories by occurrences then the rest as 'other'. In this project, I chose the latter."
   ]
  },
  {
   "cell_type": "code",
   "execution_count": 12,
   "metadata": {},
   "outputs": [],
   "source": [
    "for column in column_names_cat:\n",
    "    cat = train_transaction_full[train_transaction_full['isFraud'] == True].    \\\n",
    "                loc[:, column].value_counts(dropna = False).nlargest(n=10).index\n",
    "    yesorno = [ value not in cat for value in train_transaction_full.loc[:,column]]\n",
    "    train_transaction_full.loc[yesorno,column] = 'other'"
   ]
  },
  {
   "cell_type": "markdown",
   "metadata": {},
   "source": [
    "Now, let us do one-hot encoding. Notice in this case, we cannot decide which variable is ordinal given the info IEEE provides. So I assume every variable is nominal. "
   ]
  },
  {
   "cell_type": "code",
   "execution_count": 13,
   "metadata": {},
   "outputs": [],
   "source": [
    "train_transaction_full_cat = train_transaction_full.loc[:, column_names_cat]\n",
    "train_transaction_full_cat = pd.get_dummies(train_transaction_full_cat, dummy_na = False)"
   ]
  },
  {
   "cell_type": "code",
   "execution_count": 14,
   "metadata": {},
   "outputs": [
    {
     "data": {
      "text/html": [
       "<div>\n",
       "<style scoped>\n",
       "    .dataframe tbody tr th:only-of-type {\n",
       "        vertical-align: middle;\n",
       "    }\n",
       "\n",
       "    .dataframe tbody tr th {\n",
       "        vertical-align: top;\n",
       "    }\n",
       "\n",
       "    .dataframe thead th {\n",
       "        text-align: right;\n",
       "    }\n",
       "</style>\n",
       "<table border=\"1\" class=\"dataframe\">\n",
       "  <thead>\n",
       "    <tr style=\"text-align: right;\">\n",
       "      <th></th>\n",
       "      <th>ProductCD_C</th>\n",
       "      <th>ProductCD_H</th>\n",
       "      <th>ProductCD_R</th>\n",
       "      <th>ProductCD_S</th>\n",
       "      <th>ProductCD_W</th>\n",
       "      <th>card1_2616</th>\n",
       "      <th>card1_5812</th>\n",
       "      <th>card1_6019</th>\n",
       "      <th>card1_9026</th>\n",
       "      <th>card1_9500</th>\n",
       "      <th>...</th>\n",
       "      <th>DeviceInfo_LG-D320 Build/KOT49I.V10a</th>\n",
       "      <th>DeviceInfo_MacOS</th>\n",
       "      <th>DeviceInfo_SM-A300H Build/LRX22G</th>\n",
       "      <th>DeviceInfo_Trident/7.0</th>\n",
       "      <th>DeviceInfo_Windows</th>\n",
       "      <th>DeviceInfo_hi6210sft Build/MRA58K</th>\n",
       "      <th>DeviceInfo_iOS Device</th>\n",
       "      <th>DeviceInfo_other</th>\n",
       "      <th>DeviceInfo_rv:11.0</th>\n",
       "      <th>DeviceInfo_rv:57.0</th>\n",
       "    </tr>\n",
       "  </thead>\n",
       "  <tbody>\n",
       "    <tr>\n",
       "      <th>0</th>\n",
       "      <td>0</td>\n",
       "      <td>0</td>\n",
       "      <td>0</td>\n",
       "      <td>0</td>\n",
       "      <td>1</td>\n",
       "      <td>0</td>\n",
       "      <td>0</td>\n",
       "      <td>0</td>\n",
       "      <td>0</td>\n",
       "      <td>0</td>\n",
       "      <td>...</td>\n",
       "      <td>0</td>\n",
       "      <td>0</td>\n",
       "      <td>0</td>\n",
       "      <td>0</td>\n",
       "      <td>0</td>\n",
       "      <td>0</td>\n",
       "      <td>0</td>\n",
       "      <td>0</td>\n",
       "      <td>0</td>\n",
       "      <td>0</td>\n",
       "    </tr>\n",
       "    <tr>\n",
       "      <th>1</th>\n",
       "      <td>0</td>\n",
       "      <td>0</td>\n",
       "      <td>0</td>\n",
       "      <td>0</td>\n",
       "      <td>1</td>\n",
       "      <td>0</td>\n",
       "      <td>0</td>\n",
       "      <td>0</td>\n",
       "      <td>0</td>\n",
       "      <td>0</td>\n",
       "      <td>...</td>\n",
       "      <td>0</td>\n",
       "      <td>0</td>\n",
       "      <td>0</td>\n",
       "      <td>0</td>\n",
       "      <td>0</td>\n",
       "      <td>0</td>\n",
       "      <td>0</td>\n",
       "      <td>0</td>\n",
       "      <td>0</td>\n",
       "      <td>0</td>\n",
       "    </tr>\n",
       "    <tr>\n",
       "      <th>2</th>\n",
       "      <td>0</td>\n",
       "      <td>0</td>\n",
       "      <td>0</td>\n",
       "      <td>0</td>\n",
       "      <td>1</td>\n",
       "      <td>0</td>\n",
       "      <td>0</td>\n",
       "      <td>0</td>\n",
       "      <td>0</td>\n",
       "      <td>0</td>\n",
       "      <td>...</td>\n",
       "      <td>0</td>\n",
       "      <td>0</td>\n",
       "      <td>0</td>\n",
       "      <td>0</td>\n",
       "      <td>0</td>\n",
       "      <td>0</td>\n",
       "      <td>0</td>\n",
       "      <td>0</td>\n",
       "      <td>0</td>\n",
       "      <td>0</td>\n",
       "    </tr>\n",
       "    <tr>\n",
       "      <th>3</th>\n",
       "      <td>0</td>\n",
       "      <td>0</td>\n",
       "      <td>0</td>\n",
       "      <td>0</td>\n",
       "      <td>1</td>\n",
       "      <td>0</td>\n",
       "      <td>0</td>\n",
       "      <td>0</td>\n",
       "      <td>0</td>\n",
       "      <td>0</td>\n",
       "      <td>...</td>\n",
       "      <td>0</td>\n",
       "      <td>0</td>\n",
       "      <td>0</td>\n",
       "      <td>0</td>\n",
       "      <td>0</td>\n",
       "      <td>0</td>\n",
       "      <td>0</td>\n",
       "      <td>0</td>\n",
       "      <td>0</td>\n",
       "      <td>0</td>\n",
       "    </tr>\n",
       "    <tr>\n",
       "      <th>4</th>\n",
       "      <td>0</td>\n",
       "      <td>1</td>\n",
       "      <td>0</td>\n",
       "      <td>0</td>\n",
       "      <td>0</td>\n",
       "      <td>0</td>\n",
       "      <td>0</td>\n",
       "      <td>0</td>\n",
       "      <td>0</td>\n",
       "      <td>0</td>\n",
       "      <td>...</td>\n",
       "      <td>0</td>\n",
       "      <td>0</td>\n",
       "      <td>0</td>\n",
       "      <td>0</td>\n",
       "      <td>0</td>\n",
       "      <td>0</td>\n",
       "      <td>0</td>\n",
       "      <td>1</td>\n",
       "      <td>0</td>\n",
       "      <td>0</td>\n",
       "    </tr>\n",
       "  </tbody>\n",
       "</table>\n",
       "<p>5 rows × 195 columns</p>\n",
       "</div>"
      ],
      "text/plain": [
       "   ProductCD_C  ProductCD_H  ProductCD_R  ProductCD_S  ProductCD_W  \\\n",
       "0            0            0            0            0            1   \n",
       "1            0            0            0            0            1   \n",
       "2            0            0            0            0            1   \n",
       "3            0            0            0            0            1   \n",
       "4            0            1            0            0            0   \n",
       "\n",
       "   card1_2616  card1_5812  card1_6019  card1_9026  card1_9500  ...  \\\n",
       "0           0           0           0           0           0  ...   \n",
       "1           0           0           0           0           0  ...   \n",
       "2           0           0           0           0           0  ...   \n",
       "3           0           0           0           0           0  ...   \n",
       "4           0           0           0           0           0  ...   \n",
       "\n",
       "   DeviceInfo_LG-D320 Build/KOT49I.V10a  DeviceInfo_MacOS  \\\n",
       "0                                     0                 0   \n",
       "1                                     0                 0   \n",
       "2                                     0                 0   \n",
       "3                                     0                 0   \n",
       "4                                     0                 0   \n",
       "\n",
       "   DeviceInfo_SM-A300H Build/LRX22G  DeviceInfo_Trident/7.0  \\\n",
       "0                                 0                       0   \n",
       "1                                 0                       0   \n",
       "2                                 0                       0   \n",
       "3                                 0                       0   \n",
       "4                                 0                       0   \n",
       "\n",
       "   DeviceInfo_Windows  DeviceInfo_hi6210sft Build/MRA58K  \\\n",
       "0                   0                                  0   \n",
       "1                   0                                  0   \n",
       "2                   0                                  0   \n",
       "3                   0                                  0   \n",
       "4                   0                                  0   \n",
       "\n",
       "   DeviceInfo_iOS Device  DeviceInfo_other  DeviceInfo_rv:11.0  \\\n",
       "0                      0                 0                   0   \n",
       "1                      0                 0                   0   \n",
       "2                      0                 0                   0   \n",
       "3                      0                 0                   0   \n",
       "4                      0                 1                   0   \n",
       "\n",
       "   DeviceInfo_rv:57.0  \n",
       "0                   0  \n",
       "1                   0  \n",
       "2                   0  \n",
       "3                   0  \n",
       "4                   0  \n",
       "\n",
       "[5 rows x 195 columns]"
      ]
     },
     "execution_count": 14,
     "metadata": {},
     "output_type": "execute_result"
    }
   ],
   "source": [
    "# sanity check\n",
    "train_transaction_full_cat.head()"
   ]
  },
  {
   "cell_type": "markdown",
   "metadata": {},
   "source": [
    "Now let's impute the missing values (NAs). "
   ]
  },
  {
   "cell_type": "code",
   "execution_count": 15,
   "metadata": {},
   "outputs": [],
   "source": [
    "column_names_notinterested = ['isFraud', 'TransactionID', 'TransactionDT']\n",
    "column_names_noncat = [name for name in train_transaction_full.columns.tolist() \n",
    "                       if name not in column_names_cat and name not in column_names_notinterested]"
   ]
  },
  {
   "cell_type": "code",
   "execution_count": 16,
   "metadata": {},
   "outputs": [],
   "source": [
    "fill_NaN = SimpleImputer(missing_values=np.nan, strategy='median')\n",
    "train_transaction_full_noncat = train_transaction_full.loc[:,column_names_noncat]\n",
    "\n",
    "train_transaction_full_noncat = pd.DataFrame(fill_NaN.fit_transform(train_transaction_full_noncat), \n",
    "                                                 columns = train_transaction_full_noncat.columns)\n"
   ]
  },
  {
   "cell_type": "markdown",
   "metadata": {},
   "source": [
    "Now we can concatenate the one-hot encoded cat and imputed non-cat datasets for a new dataset!"
   ]
  },
  {
   "cell_type": "code",
   "execution_count": 17,
   "metadata": {},
   "outputs": [],
   "source": [
    "X_train_full = pd.concat([train_transaction_full_cat, train_transaction_full_noncat], axis = 1, sort=False)"
   ]
  },
  {
   "cell_type": "code",
   "execution_count": 18,
   "metadata": {},
   "outputs": [
    {
     "name": "stdout",
     "output_type": "stream",
     "text": [
      "(590540, 516)\n"
     ]
    }
   ],
   "source": [
    "print(X_train_full.shape)"
   ]
  },
  {
   "cell_type": "markdown",
   "metadata": {},
   "source": [
    "merge X_train_full and y_train_full as train_full for exploratory data analysis (EDA) purpose!"
   ]
  },
  {
   "cell_type": "code",
   "execution_count": 19,
   "metadata": {},
   "outputs": [],
   "source": [
    "train_full = pd.concat([X_train_full, train_transaction_full['isFraud']], axis = 1, sort = False)\n",
    "train_full['isFraud'] = train_full['isFraud'].map({1:'Fraud',0:'Not Fraud'})"
   ]
  },
  {
   "cell_type": "markdown",
   "metadata": {},
   "source": [
    "# Exploratory Data Analysis and Feature Selection\n",
    "Let us do some exploratory data analysis to know what distribution the continuous features may follow and how they are correlated (I do think feature selection and engineering is important (except using tree-based method) but this exploratory data analysis may serve to let me know more about the data)"
   ]
  },
  {
   "cell_type": "code",
   "execution_count": 20,
   "metadata": {},
   "outputs": [],
   "source": [
    "train_transaction_fraud = train_full[train_full['isFraud'] == 'Fraud']\n",
    "train_transaction_nonfraud = train_full[train_full['isFraud'] == 'Not Fraud']"
   ]
  },
  {
   "cell_type": "markdown",
   "metadata": {},
   "source": [
    "I want to show some distribution plots of some continuous variables to have some intuition about what they look like."
   ]
  },
  {
   "cell_type": "code",
   "execution_count": 21,
   "metadata": {},
   "outputs": [
    {
     "data": {
      "text/plain": [
       "<matplotlib.legend.Legend at 0x1a15326828>"
      ]
     },
     "execution_count": 21,
     "metadata": {},
     "output_type": "execute_result"
    },
    {
     "data": {
      "image/png": "[encoded data removed]",
      "text/plain": [
       "<Figure size 432x288 with 1 Axes>"
      ]
     },
     "metadata": {
      "needs_background": "light"
     },
     "output_type": "display_data"
    }
   ],
   "source": [
    "fig, ax = plt.subplots()\n",
    "sns.distplot(np.log(train_transaction_fraud['dist1']+1), kde = False, ax = ax, norm_hist = True)\n",
    "sns.distplot(np.log(train_transaction_nonfraud['dist1']+1), kde = False, color = 'red', ax = ax, norm_hist = True)\n",
    "plt.legend(labels = ['fraud', 'non-fraud'])\n",
    "#train_full['logdist1'] = np.log(train_full['dist1']+1)\n",
    "#sns.boxplot(y = 'logdist1',x = 'isFraud', data = train_full, ax = ax)\n"
   ]
  },
  {
   "cell_type": "code",
   "execution_count": 22,
   "metadata": {},
   "outputs": [
    {
     "data": {
      "text/plain": [
       "(0, 2000)"
      ]
     },
     "execution_count": 22,
     "metadata": {},
     "output_type": "execute_result"
    },
    {
     "data": {
      "image/png": "[encoded data removed]",
      "text/plain": [
       "<Figure size 432x288 with 1 Axes>"
      ]
     },
     "metadata": {
      "needs_background": "light"
     },
     "output_type": "display_data"
    }
   ],
   "source": [
    "fig, ax = plt.subplots()\n",
    "#train_full['TransactionAmt'].loc[train_full['TransactionAmt'] > 30000] = 0\n",
    "sns.boxplot(y = 'TransactionAmt',x = 'isFraud', data = train_full, ax = ax)\n",
    "ax.set_ylim([0, 2000])"
   ]
  },
  {
   "cell_type": "code",
   "execution_count": 23,
   "metadata": {},
   "outputs": [
    {
     "data": {
      "text/plain": [
       "<matplotlib.axes._subplots.AxesSubplot at 0x1a199812b0>"
      ]
     },
     "execution_count": 23,
     "metadata": {},
     "output_type": "execute_result"
    },
    {
     "data": {
      "image/png": "[encoded data removed]",
      "text/plain": [
       "<Figure size 432x288 with 1 Axes>"
      ]
     },
     "metadata": {
      "needs_background": "light"
     },
     "output_type": "display_data"
    }
   ],
   "source": [
    "#logtransform\n",
    "#As the data is highly skewed \n",
    "fig, ax = plt.subplots()\n",
    "#sns.distplot(np.log(train_transaction_fraud['TransactionAmt']+1), kde = False, ax = ax, norm_hist = True)\n",
    "#sns.distplot(np.log(train_transaction_nonfraud['TransactionAmt']+1), kde = False, \n",
    "#             color = 'red', ax = ax, norm_hist = True)\n",
    "#plt.legend(labels = ['fraud', 'non-fraud'])\n",
    "train_full['logTransactionAmt'] = np.log(train_full['TransactionAmt']+1)\n",
    "sns.boxplot(y = 'logTransactionAmt',x = 'isFraud', data = train_full, ax = ax)"
   ]
  },
  {
   "cell_type": "markdown",
   "metadata": {},
   "source": [
    "Looks like the distribution of fraud log transaction amount is broader than that of the not fraud counterpart. But such difference may not be ideal as they have a large part overlapping to each other. Let us do more anyway!"
   ]
  },
  {
   "cell_type": "code",
   "execution_count": 54,
   "metadata": {},
   "outputs": [
    {
     "data": {
      "text/plain": [
       "<matplotlib.axes._subplots.AxesSubplot at 0x1a1f712e48>"
      ]
     },
     "execution_count": 54,
     "metadata": {},
     "output_type": "execute_result"
    },
    {
     "data": {
      "image/png": "[encoded data removed]",
      "text/plain": [
       "<Figure size 432x288 with 1 Axes>"
      ]
     },
     "metadata": {
      "needs_background": "light"
     },
     "output_type": "display_data"
    }
   ],
   "source": [
    "fig, ax = plt.subplots()\n",
    "sns.distplot(np.log(train_transaction_fraud['C1']+1), kde = False, color = 'blue', ax = ax, norm_hist = True)\n",
    "sns.distplot(np.log(train_transaction_nonfraud['C1']+1), kde = False, color = 'red', ax = ax, norm_hist = True)"
   ]
  },
  {
   "cell_type": "markdown",
   "metadata": {},
   "source": [
    "As we see above, the log-transformed plot after normalization shows some differences! However, I think this is hopeless to plot all the distribution histograms manually of the columns to let us discern useful information to do feature engineering this way."
   ]
  },
  {
   "cell_type": "code",
   "execution_count": 25,
   "metadata": {},
   "outputs": [],
   "source": [
    "#correlation matrix to see which columns are highly correlated with classifications\n",
    "corr_X_train = X_train_full.corr()"
   ]
  },
  {
   "cell_type": "code",
   "execution_count": 26,
   "metadata": {},
   "outputs": [],
   "source": [
    "upper = corr_X_train.where(np.triu(np.ones(corr_X_train.shape), k=1).astype(np.bool))\n",
    "# Find features with correlation greater than 0.95\n",
    "to_drop = [column for column in upper.columns if any(np.abs(upper[column]) > 0.95)]"
   ]
  },
  {
   "cell_type": "code",
   "execution_count": 27,
   "metadata": {},
   "outputs": [],
   "source": [
    "X_train_full = X_train_full.drop(columns = to_drop,axis = 1)"
   ]
  },
  {
   "cell_type": "code",
   "execution_count": 28,
   "metadata": {},
   "outputs": [
    {
     "data": {
      "text/plain": [
       "(590540, 422)"
      ]
     },
     "execution_count": 28,
     "metadata": {},
     "output_type": "execute_result"
    }
   ],
   "source": [
    "X_train_full.shape"
   ]
  },
  {
   "cell_type": "markdown",
   "metadata": {},
   "source": [
    "# Train a ridge classification model "
   ]
  },
  {
   "cell_type": "code",
   "execution_count": 55,
   "metadata": {},
   "outputs": [],
   "source": [
    "y_train_full = train_full['isFraud'].map({'Fraud': 1,'Not Fraud': 0})"
   ]
  },
  {
   "cell_type": "code",
   "execution_count": 83,
   "metadata": {},
   "outputs": [
    {
     "data": {
      "text/plain": [
       "array([[102622,  11352],\n",
       "       [  2911,   1223]])"
      ]
     },
     "execution_count": 83,
     "metadata": {},
     "output_type": "execute_result"
    }
   ],
   "source": [
    "X_train, X_test, y_train, y_test = train_test_split(X_train_full, y_train_full, test_size=0.2, random_state=1)\n",
    "clf = RidgeClassifierCV(alphas=[1e-3, 1e-2, 1e-1, 1]).fit(X_train, y_train)\n",
    "y_test_pred = clf.predict(X_test) \n",
    "confusion_matrix(y_test, y_test_pred)"
   ]
  },
  {
   "cell_type": "markdown",
   "metadata": {},
   "source": [
    "Looks rather bad, right? We end up misclassifying lots of good ones into fraud ones which means our model has a very high false positive rate. So I think there are two simple things to try at first to improve: 1) the continuous variables are not standardized which may cause the model training to have some problems. 2) maybe applying log transform to the continuous variables is something we can do at the moment. let's standardize the continuous variables after taking log transform and see if there is any difference!"
   ]
  },
  {
   "cell_type": "code",
   "execution_count": 50,
   "metadata": {},
   "outputs": [],
   "source": [
    "for train_noncat_column in train_transaction_full_noncat.columns:\n",
    "    if(np.min(train_transaction_full_noncat[train_noncat_column]) > 0):\n",
    "        if(train_transaction_full_noncat[train_noncat_column].skew(axis = 0) > 5):\n",
    "            train_transaction_full_noncat[train_noncat_column] = np.log(train_transaction_full_noncat[train_noncat_column])\n",
    "    elif(np.min(train_transaction_full_noncat[train_noncat_column]) == 0):\n",
    "        if(train_transaction_full_noncat[train_noncat_column].skew(axis = 0) > 5):\n",
    "            train_transaction_full_noncat[train_noncat_column] = np.log(train_transaction_full_noncat[train_noncat_column] + 1)\n",
    "#train_transaction_full_noncat.skew(axis = 0, skipna = True) \n",
    "#train_transaction_full_noncat['V5'].hist()"
   ]
  },
  {
   "cell_type": "code",
   "execution_count": 60,
   "metadata": {},
   "outputs": [
    {
     "data": {
      "text/plain": [
       "<matplotlib.axes._subplots.AxesSubplot at 0x1a250b2940>"
      ]
     },
     "execution_count": 60,
     "metadata": {},
     "output_type": "execute_result"
    },
    {
     "data": {
      "image/png": "[encoded data removed]",
      "text/plain": [
       "<Figure size 432x288 with 1 Axes>"
      ]
     },
     "metadata": {
      "needs_background": "light"
     },
     "output_type": "display_data"
    }
   ],
   "source": [
    "#sanity check of the log transforms\n",
    "pd.Series(train_transaction_full_noncat['TransactionAmt']).hist()"
   ]
  },
  {
   "cell_type": "code",
   "execution_count": 52,
   "metadata": {},
   "outputs": [],
   "source": [
    "scaler = StandardScaler(with_std = False)\n",
    "train_transaction_full_noncat_scaled = pd.DataFrame(scaler.fit_transform(train_transaction_full_noncat), \n",
    "                                                    columns = train_transaction_full_noncat.columns)\n",
    "X_train_full_scaled = pd.concat([train_transaction_full_cat, \n",
    "                                 train_transaction_full_noncat_scaled], axis = 1, sort=False)"
   ]
  },
  {
   "cell_type": "code",
   "execution_count": 62,
   "metadata": {},
   "outputs": [
    {
     "data": {
      "text/plain": [
       "<matplotlib.axes._subplots.AxesSubplot at 0x1a2d9437f0>"
      ]
     },
     "execution_count": 62,
     "metadata": {},
     "output_type": "execute_result"
    },
    {
     "data": {
      "image/png": "[encoded data removed]",
      "text/plain": [
       "<Figure size 432x288 with 1 Axes>"
      ]
     },
     "metadata": {
      "needs_background": "light"
     },
     "output_type": "display_data"
    }
   ],
   "source": [
    "#sanitty check of the standardscaler\n",
    "X_train_full_scaled['TransactionAmt'].hist()"
   ]
  },
  {
   "cell_type": "code",
   "execution_count": 84,
   "metadata": {},
   "outputs": [
    {
     "data": {
      "text/plain": [
       "array([[102638,  11336],\n",
       "       [  2911,   1223]])"
      ]
     },
     "execution_count": 84,
     "metadata": {},
     "output_type": "execute_result"
    }
   ],
   "source": [
    "X_train, X_test, y_train, y_test = train_test_split(X_train_full_scaled, y_train_full, test_size=0.2, random_state=1)\n",
    "clf = RidgeClassifierCV(alphas=[1e-3, 1e-2, 1e-1, 1]).fit(X_train, y_train)\n",
    "y_test_pred = clf.predict(X_test) \n",
    "confusion_matrix(y_test, y_test_pred)"
   ]
  },
  {
   "cell_type": "markdown",
   "metadata": {},
   "source": [
    "Still terrible! Maybe ridge classifier is not an ideal choice here! Maybe we can do better with more feature engineering such as adding high-order polynomial features. But this would wind up making our feature space too big for the computer to handle. As I will give up on the ridge classifier I want to try the decision-tree based algorithms as these algorithms in general handle tabulated data pretty well!"
   ]
  },
  {
   "cell_type": "markdown",
   "metadata": {},
   "source": [
    "# Train a random forest model and feature selection "
   ]
  },
  {
   "cell_type": "code",
   "execution_count": 63,
   "metadata": {},
   "outputs": [
    {
     "data": {
      "text/plain": [
       "(590540, 422)"
      ]
     },
     "execution_count": 63,
     "metadata": {},
     "output_type": "execute_result"
    }
   ],
   "source": [
    "X_train_full.shape"
   ]
  },
  {
   "cell_type": "markdown",
   "metadata": {},
   "source": [
    "I do a random forest training first because I want to evaluate the feature importance!"
   ]
  },
  {
   "cell_type": "code",
   "execution_count": 69,
   "metadata": {},
   "outputs": [
    {
     "name": "stderr",
     "output_type": "stream",
     "text": [
      "[Parallel(n_jobs=-1)]: Using backend ThreadingBackend with 4 concurrent workers.\n",
      "[Parallel(n_jobs=-1)]: Done  42 tasks      | elapsed:   35.8s\n",
      "[Parallel(n_jobs=-1)]: Done 100 out of 100 | elapsed:  1.4min finished\n",
      "[Parallel(n_jobs=4)]: Using backend ThreadingBackend with 4 concurrent workers.\n",
      "[Parallel(n_jobs=4)]: Done  42 tasks      | elapsed:    1.6s\n",
      "[Parallel(n_jobs=4)]: Done 100 out of 100 | elapsed:    3.8s finished\n",
      "[Parallel(n_jobs=4)]: Using backend ThreadingBackend with 4 concurrent workers.\n",
      "[Parallel(n_jobs=4)]: Done  42 tasks      | elapsed:    0.4s\n",
      "[Parallel(n_jobs=4)]: Done 100 out of 100 | elapsed:    0.9s finished\n"
     ]
    },
    {
     "data": {
      "image/png": "[encoded data removed]",
      "text/plain": [
       "<Figure size 432x288 with 1 Axes>"
      ]
     },
     "metadata": {
      "needs_background": "light"
     },
     "output_type": "display_data"
    }
   ],
   "source": [
    "X_train, X_test, y_train, y_test = train_test_split(X_train_full, y_train_full, test_size=0.2, random_state=1)\n",
    "clf = RandomForestClassifier(n_estimators=100, max_depth=30, min_samples_leaf = 4, \n",
    "                             random_state=0, verbose = True, n_jobs = -1)\n",
    "clf.fit(X_train, y_train)  \n",
    "y_pred_train = clf.predict(X_train)\n",
    "y_pred_proba = clf.predict_proba(X_test)[:,1]\n",
    "fpr, tpr, _ = metrics.roc_curve(y_test,  y_pred_proba)\n",
    "auc = metrics.roc_auc_score(y_test, y_pred_proba)\n",
    "plt.plot(fpr,tpr,label=\"data 1, auc=\"+str(auc))\n",
    "plt.legend(loc=4)\n",
    "plt.show()"
   ]
  },
  {
   "cell_type": "code",
   "execution_count": 70,
   "metadata": {},
   "outputs": [
    {
     "name": "stderr",
     "output_type": "stream",
     "text": [
      "[Parallel(n_jobs=4)]: Using backend ThreadingBackend with 4 concurrent workers.\n",
      "[Parallel(n_jobs=4)]: Done  42 tasks      | elapsed:    0.4s\n",
      "[Parallel(n_jobs=4)]: Done 100 out of 100 | elapsed:    0.9s finished\n"
     ]
    },
    {
     "data": {
      "text/plain": [
       "array([[113863,    111],\n",
       "       [  2584,   1550]])"
      ]
     },
     "execution_count": 70,
     "metadata": {},
     "output_type": "execute_result"
    }
   ],
   "source": [
    "y_test_pred = clf.predict(X_test)\n",
    "confusion_matrix(y_test, y_test_pred, labels = [1, 0])"
   ]
  },
  {
   "cell_type": "markdown",
   "metadata": {},
   "source": [
    "Much better compared with ridge classifier. But still not good enough. One thing we could do at the moment is to look into the feature importance in order to remove some highly redundant features."
   ]
  },
  {
   "cell_type": "code",
   "execution_count": 71,
   "metadata": {},
   "outputs": [],
   "source": [
    "feature_importance = pd.Series(clf.feature_importances_, index = X_train.columns)"
   ]
  },
  {
   "cell_type": "code",
   "execution_count": 72,
   "metadata": {},
   "outputs": [
    {
     "data": {
      "text/plain": [
       "C1                0.035353\n",
       "C13               0.026485\n",
       "V257              0.022973\n",
       "V258              0.020115\n",
       "V189              0.019833\n",
       "V45               0.019014\n",
       "TransactionAmt    0.018954\n",
       "C7                0.018131\n",
       "V200              0.017917\n",
       "V201              0.017198\n",
       "V242              0.014108\n",
       "V190              0.014101\n",
       "V44               0.013890\n",
       "V246              0.013619\n",
       "V87               0.012942\n",
       "V243              0.012218\n",
       "V294              0.012086\n",
       "V188              0.011679\n",
       "D15               0.010053\n",
       "V274              0.009793\n",
       "dtype: float64"
      ]
     },
     "execution_count": 72,
     "metadata": {},
     "output_type": "execute_result"
    }
   ],
   "source": [
    "feature_importance.sort_values(ascending = False)[:20]"
   ]
  },
  {
   "cell_type": "markdown",
   "metadata": {},
   "source": [
    "There is no particular reason but I just want to select the first 400 features for the future model training."
   ]
  },
  {
   "cell_type": "code",
   "execution_count": 73,
   "metadata": {},
   "outputs": [],
   "source": [
    "X_train_full_mostimportant = X_train_full[feature_importance.sort_values(ascending = False).index[:400]]"
   ]
  },
  {
   "cell_type": "code",
   "execution_count": 142,
   "metadata": {},
   "outputs": [
    {
     "name": "stdout",
     "output_type": "stream",
     "text": [
      "Fitting 5 folds for each of 12 candidates, totalling 60 fits\n"
     ]
    },
    {
     "name": "stderr",
     "output_type": "stream",
     "text": [
      "[Parallel(n_jobs=-1)]: Using backend LokyBackend with 4 concurrent workers.\n",
      "[Parallel(n_jobs=-1)]: Done   5 tasks      | elapsed:  9.4min\n",
      "[Parallel(n_jobs=-1)]: Done  10 tasks      | elapsed: 13.8min\n",
      "[Parallel(n_jobs=-1)]: Done  17 tasks      | elapsed: 22.3min\n",
      "[Parallel(n_jobs=-1)]: Done  24 tasks      | elapsed: 29.5min\n",
      "[Parallel(n_jobs=-1)]: Done  33 tasks      | elapsed: 43.8min\n",
      "[Parallel(n_jobs=-1)]: Done  42 tasks      | elapsed: 54.1min\n",
      "[Parallel(n_jobs=-1)]: Done  53 tasks      | elapsed: 83.4min\n",
      "[Parallel(n_jobs=-1)]: Done  60 out of  60 | elapsed: 89.3min remaining:    0.0s\n",
      "[Parallel(n_jobs=-1)]: Done  60 out of  60 | elapsed: 89.3min finished\n",
      "[Parallel(n_jobs=1)]: Using backend SequentialBackend with 1 concurrent workers.\n",
      "[Parallel(n_jobs=1)]: Done 100 out of 100 | elapsed:  3.8min finished\n"
     ]
    },
    {
     "data": {
      "text/plain": [
       "{'bootstrap': True,\n",
       " 'max_depth': 35,\n",
       " 'min_samples_leaf': 2,\n",
       " 'min_samples_split': 4,\n",
       " 'n_estimators': 100}"
      ]
     },
     "execution_count": 142,
     "metadata": {},
     "output_type": "execute_result"
    }
   ],
   "source": [
    "#for i in range(3):\n",
    "X_train, X_test, y_train, y_test = train_test_split(X_train_full_mostimportant, y_train_full, test_size=0.2, random_state=1)\n",
    "\n",
    "# Grid Search\n",
    "# Create the parameter grid based on the results of random search \n",
    "param_grid = {\n",
    "         'bootstrap': [True],\n",
    "         'max_depth': [25,30,35],\n",
    "         'min_samples_leaf': [2,4],\n",
    "         'min_samples_split': [2,4],\n",
    "         'n_estimators': [100]\n",
    "}\n",
    "#Create a based model\n",
    "folds = 5\n",
    "rf = RandomForestClassifier(verbose = True)\n",
    "skf = StratifiedKFold(n_splits=folds, shuffle = True, random_state = 1)\n",
    "#Instantiate the grid search model\n",
    "grid_search = GridSearchCV(estimator = rf, param_grid = param_grid, \n",
    "                              cv = skf, n_jobs = -1, verbose = 10)\n",
    "grid_search.fit(X_train, y_train)\n",
    "grid_search.best_params_\n"
   ]
  },
  {
   "cell_type": "markdown",
   "metadata": {},
   "source": [
    "It turns out the grid CV selects the above hyperparameters for the random forest model and let's see how different this could be!"
   ]
  },
  {
   "cell_type": "code",
   "execution_count": 74,
   "metadata": {},
   "outputs": [
    {
     "name": "stderr",
     "output_type": "stream",
     "text": [
      "[Parallel(n_jobs=-1)]: Using backend ThreadingBackend with 4 concurrent workers.\n",
      "[Parallel(n_jobs=-1)]: Done  42 tasks      | elapsed:   41.1s\n",
      "[Parallel(n_jobs=-1)]: Done 100 out of 100 | elapsed:  1.6min finished\n",
      "[Parallel(n_jobs=4)]: Using backend ThreadingBackend with 4 concurrent workers.\n",
      "[Parallel(n_jobs=4)]: Done  42 tasks      | elapsed:    0.4s\n",
      "[Parallel(n_jobs=4)]: Done 100 out of 100 | elapsed:    1.0s finished\n"
     ]
    },
    {
     "data": {
      "image/png": "[encoded data removed]",
      "text/plain": [
       "<Figure size 432x288 with 1 Axes>"
      ]
     },
     "metadata": {
      "needs_background": "light"
     },
     "output_type": "display_data"
    }
   ],
   "source": [
    "clf = RandomForestClassifier(n_estimators=100, max_depth=35, min_samples_split = 4,\n",
    "                             random_state=0, verbose = True, n_jobs = -1)\n",
    "clf.fit(X_train,y_train) \n",
    "y_pred_proba = clf.predict_proba(X_test)[:,1]\n",
    "fpr, tpr, _ = metrics.roc_curve(y_test,  y_pred_proba)\n",
    "auc = metrics.roc_auc_score(y_test, y_pred_proba)\n",
    "plt.plot(fpr,tpr,label=\"data 1, auc=\"+str(auc))\n",
    "plt.legend(loc=4)\n",
    "plt.show()"
   ]
  },
  {
   "cell_type": "code",
   "execution_count": 75,
   "metadata": {},
   "outputs": [
    {
     "name": "stderr",
     "output_type": "stream",
     "text": [
      "[Parallel(n_jobs=4)]: Using backend ThreadingBackend with 4 concurrent workers.\n",
      "[Parallel(n_jobs=4)]: Done  42 tasks      | elapsed:    0.4s\n",
      "[Parallel(n_jobs=4)]: Done 100 out of 100 | elapsed:    1.1s finished\n"
     ]
    },
    {
     "data": {
      "text/plain": [
       "array([[113872,    102],\n",
       "       [  2293,   1841]])"
      ]
     },
     "execution_count": 75,
     "metadata": {},
     "output_type": "execute_result"
    }
   ],
   "source": [
    "y_test_pred = clf.predict(X_test)\n",
    "confusion_matrix(y_test, y_test_pred, labels = [1, 0])"
   ]
  },
  {
   "cell_type": "markdown",
   "metadata": {},
   "source": [
    "# Train a XGboost model"
   ]
  },
  {
   "cell_type": "code",
   "execution_count": 77,
   "metadata": {},
   "outputs": [],
   "source": [
    "X_train, X_test, y_train, y_test = train_test_split(X_train_full_mostimportant, y_train_full, test_size=0.2, random_state=2)"
   ]
  },
  {
   "cell_type": "code",
   "execution_count": 78,
   "metadata": {},
   "outputs": [
    {
     "data": {
      "text/plain": [
       "XGBClassifier(base_score=0.5, booster='gbtree', colsample_bylevel=1,\n",
       "       colsample_bynode=1, colsample_bytree=1, gamma=0, learning_rate=0.1,\n",
       "       max_delta_step=0, max_depth=10, min_child_weight=1, missing=None,\n",
       "       n_estimators=300, n_jobs=1, nthread=None,\n",
       "       objective='binary:logistic', random_state=0, reg_alpha=0,\n",
       "       reg_lambda=0, scale_pos_weight=1, seed=1, silent=None, subsample=1,\n",
       "       verbosity=1)"
      ]
     },
     "execution_count": 78,
     "metadata": {},
     "output_type": "execute_result"
    }
   ],
   "source": [
    "clf = XGBClassifier(max_depth=10,\n",
    "                    min_child_weight=1,\n",
    "                    learning_rate=0.1,\n",
    "                    n_estimators=300,\n",
    "                    #silent=True,\n",
    "                    objective='binary:logistic',\n",
    "                    gamma=0,\n",
    "                    max_delta_step=0,\n",
    "                    subsample=1,\n",
    "                    colsample_bytree=1,\n",
    "                    colsample_bylevel=1,\n",
    "                    reg_alpha=0,\n",
    "                    reg_lambda=0,\n",
    "                    scale_pos_weight=1,\n",
    "                    seed=1,\n",
    "                    missing=None,\n",
    "                    verbosity = 1)\n",
    "\n",
    "clf.fit(X_train, y_train)\n",
    "\n"
   ]
  },
  {
   "cell_type": "code",
   "execution_count": 79,
   "metadata": {},
   "outputs": [
    {
     "data": {
      "image/png": "[encoded data removed]",
      "text/plain": [
       "<Figure size 432x288 with 1 Axes>"
      ]
     },
     "metadata": {
      "needs_background": "light"
     },
     "output_type": "display_data"
    }
   ],
   "source": [
    "y_pred_proba = clf.predict_proba(X_test)[:,1]\n",
    "#print(y_test)\n",
    "#print(y_pred_proba)\n",
    "fpr, tpr, _ = metrics.roc_curve(y_test,  y_pred_proba)\n",
    "auc = metrics.roc_auc_score(y_test, y_pred_proba)\n",
    "plt.plot(fpr,tpr,label=\"data 1, auc=\"+str(auc))\n",
    "plt.legend(loc=4)\n",
    "plt.show()"
   ]
  },
  {
   "cell_type": "code",
   "execution_count": 82,
   "metadata": {},
   "outputs": [
    {
     "data": {
      "text/plain": [
       "array([[113845,    139],\n",
       "       [  1765,   2359]])"
      ]
     },
     "execution_count": 82,
     "metadata": {},
     "output_type": "execute_result"
    }
   ],
   "source": [
    "y_test_pred = clf.predict(X_test)\n",
    "confusion_matrix(y_test, y_test_pred)"
   ]
  },
  {
   "cell_type": "markdown",
   "metadata": {},
   "source": [
    "As we can see, the result is improved a lot with the XGBoost model. I have not yet applied a full cross validation to tune the hyperparameters yet, and the above hyperparameters with some previous mess-arounds. However, a full cross validation with grid search will take a fairly long period of time while randomized search scheme will take less time but still be time consuming. The following steps always get my jupyter notebook reload, but I just show it here for reference."
   ]
  },
  {
   "cell_type": "code",
   "execution_count": null,
   "metadata": {},
   "outputs": [],
   "source": [
    "params = {\n",
    "        'min_child_weight': [1, 5, 10],\n",
    "        'gamma': [0.5, 1, 1.5, 2, 5],\n",
    "        'subsample': [0.6, 0.8, 1.0],\n",
    "        'colsample_bytree': [0.6, 0.8, 1.0],\n",
    "        'max_depth': [8, 10]\n",
    "}\n",
    "\n",
    "\n",
    "xgb = XGBClassifier(learning_rate=0.1, n_estimators=300, objective='binary:logistic',\n",
    "                    silent=True, nthread=1)\n",
    "\n",
    "folds = 3\n",
    "param_comb = 5\n",
    "\n",
    "skf = StratifiedKFold(n_splits=folds, shuffle = True, random_state = 1)\n",
    "random_search = RandomizedSearchCV(xgb, param_distributions=params, n_iter=param_comb,\n",
    "                                   scoring='roc_auc', n_jobs=4, cv=skf.split(X_train,y_train), verbose=3, random_state=1)\n",
    "random_search.fit(X_train, y_train)\n"
   ]
  },
  {
   "cell_type": "markdown",
   "metadata": {},
   "source": [
    "# Summary\n",
    "* In this project, I first cleaned the datasets by imputing the noncategorical features and one-hot encoding the categorical features\n",
    "* I then did exploratory data analysis and feature selection of the data\n",
    "* I trained ridge classifier, random forest classifier and xgboost classifier with the datasets\n",
    "In general, ridge classifier is not ideal given the existing features and more feature engineering may be required to boost the detection outcome. Random forest improves the result a lot but still have overall 50% false negative rate. The best model till now is the XGboost model which gives ~ 40% false negative rate. Still I may be able to improve the result even better if a full cross-validation can be performed. "
   ]
  },
  {
   "cell_type": "code",
   "execution_count": null,
   "metadata": {},
   "outputs": [],
   "source": []
  }
 ],
 "metadata": {
  "kernelspec": {
   "display_name": "Python 3",
   "language": "python",
   "name": "python3"
  },
  "language_info": {
   "codemirror_mode": {
    "name": "ipython",
    "version": 3
   },
   "file_extension": ".py",
   "mimetype": "text/x-python",
   "name": "python",
   "nbconvert_exporter": "python",
   "pygments_lexer": "ipython3",
   "version": "3.7.3"
  }
 },
 "nbformat": 4,
 "nbformat_minor": 2
}
